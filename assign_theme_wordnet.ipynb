{
 "cells": [
  {
   "cell_type": "code",
   "execution_count": 1,
   "id": "0990651f-80c2-4a7c-9f8d-89d3022b782b",
   "metadata": {},
   "outputs": [],
   "source": [
    "import pandas as pd\n",
    "import numpy as np\n",
    "import matplotlib.pyplot as plt\n",
    "import time"
   ]
  },
  {
   "cell_type": "code",
   "execution_count": 2,
   "id": "60ef766b-a656-4f33-a3cc-1b7843889e74",
   "metadata": {},
   "outputs": [],
   "source": [
    "df = pd.read_csv(\"data/processed_tweet.csv\")"
   ]
  },
  {
   "cell_type": "markdown",
   "id": "8ca4af0e-9cf3-4777-abde-b4d3051f36dd",
   "metadata": {},
   "source": [
    "# Use TF-IDF to Find Most Important Words"
   ]
  },
  {
   "cell_type": "markdown",
   "id": "d5f6f385-dfda-4d74-bfe3-30f81846c0a1",
   "metadata": {},
   "source": [
    "## Calculate TF-IDF"
   ]
  },
  {
   "cell_type": "code",
   "execution_count": 3,
   "id": "4966c542-ea98-4d04-9397-0da7b437f3e7",
   "metadata": {},
   "outputs": [],
   "source": [
    "from sklearn.feature_extraction.text import TfidfVectorizer"
   ]
  },
  {
   "cell_type": "code",
   "execution_count": 4,
   "id": "208e3516-1c82-43c6-8286-4c36af08f193",
   "metadata": {},
   "outputs": [],
   "source": [
    "df = df[df[\"text\"].notnull()]\n",
    "idx = df.index\n",
    "df.reset_index(drop=True, inplace=True)"
   ]
  },
  {
   "cell_type": "code",
   "execution_count": 5,
   "id": "771300d1-1bf7-4389-99a1-72daaf88d9d9",
   "metadata": {},
   "outputs": [],
   "source": [
    "text = df[\"text\"]\n",
    "vectoriser = TfidfVectorizer(max_df=0.9, min_df=10, stop_words='english')\n",
    "matrix = vectoriser.fit_transform(text)"
   ]
  },
  {
   "cell_type": "code",
   "execution_count": 6,
   "id": "39efd8b8-9b4e-499b-ad5c-dc4a490a94eb",
   "metadata": {},
   "outputs": [
    {
     "data": {
      "text/plain": [
       "(6436, 1046)"
      ]
     },
     "execution_count": 6,
     "metadata": {},
     "output_type": "execute_result"
    }
   ],
   "source": [
    "matrix.shape"
   ]
  },
  {
   "cell_type": "markdown",
   "id": "caf8e33a-60f4-41e9-8afa-40d60fdf31f7",
   "metadata": {},
   "source": [
    "## Most Important Word"
   ]
  },
  {
   "cell_type": "code",
   "execution_count": 7,
   "id": "1ec39167-1a6a-4654-81fb-558f94e4e46c",
   "metadata": {},
   "outputs": [],
   "source": [
    "important_words = []\n",
    "feature_names = vectoriser.get_feature_names_out()\n",
    "\n",
    "for sentence_idx in range(matrix.shape[0]):\n",
    "    tfidf_scores = matrix[sentence_idx].toarray().flatten()\n",
    "    max_idx = np.argmax(tfidf_scores)\n",
    "    important_word = feature_names[max_idx]\n",
    "    important_words.append(important_word)\n",
    "\n",
    "df[\"most_important_word\"] = important_words"
   ]
  },
  {
   "cell_type": "code",
   "execution_count": 8,
   "id": "75f3d3e5-034f-4716-8bcd-7eb6cdcf7e28",
   "metadata": {},
   "outputs": [
    {
     "data": {
      "text/html": [
       "<div>\n",
       "<style scoped>\n",
       "    .dataframe tbody tr th:only-of-type {\n",
       "        vertical-align: middle;\n",
       "    }\n",
       "\n",
       "    .dataframe tbody tr th {\n",
       "        vertical-align: top;\n",
       "    }\n",
       "\n",
       "    .dataframe thead th {\n",
       "        text-align: right;\n",
       "    }\n",
       "</style>\n",
       "<table border=\"1\" class=\"dataframe\">\n",
       "  <thead>\n",
       "    <tr style=\"text-align: right;\">\n",
       "      <th></th>\n",
       "      <th>id</th>\n",
       "      <th>handle</th>\n",
       "      <th>text</th>\n",
       "      <th>is_retweet</th>\n",
       "      <th>original_author</th>\n",
       "      <th>time</th>\n",
       "      <th>in_reply_to_screen_name</th>\n",
       "      <th>in_reply_to_status_id</th>\n",
       "      <th>in_reply_to_user_id</th>\n",
       "      <th>is_quote_status</th>\n",
       "      <th>...</th>\n",
       "      <th>place_country_code</th>\n",
       "      <th>place_country</th>\n",
       "      <th>place_contained_within</th>\n",
       "      <th>place_attributes</th>\n",
       "      <th>place_bounding_box</th>\n",
       "      <th>source_url</th>\n",
       "      <th>truncated</th>\n",
       "      <th>entities</th>\n",
       "      <th>extended_entities</th>\n",
       "      <th>most_important_word</th>\n",
       "    </tr>\n",
       "  </thead>\n",
       "  <tbody>\n",
       "    <tr>\n",
       "      <th>0</th>\n",
       "      <td>780925634159796224</td>\n",
       "      <td>HillaryClinton</td>\n",
       "      <td>question election put plans action make life b...</td>\n",
       "      <td>False</td>\n",
       "      <td>NaN</td>\n",
       "      <td>2016-09-28T00:22:34</td>\n",
       "      <td>NaN</td>\n",
       "      <td>NaN</td>\n",
       "      <td>NaN</td>\n",
       "      <td>False</td>\n",
       "      <td>...</td>\n",
       "      <td>NaN</td>\n",
       "      <td>NaN</td>\n",
       "      <td>NaN</td>\n",
       "      <td>NaN</td>\n",
       "      <td>NaN</td>\n",
       "      <td>https://studio.twitter.com</td>\n",
       "      <td>False</td>\n",
       "      <td>{'media': [{'display_url': 'pic.twitter.com/Xr...</td>\n",
       "      <td>{'media': [{'display_url': 'pic.twitter.com/Xr...</td>\n",
       "      <td>question</td>\n",
       "    </tr>\n",
       "    <tr>\n",
       "      <th>1</th>\n",
       "      <td>780916180899037184</td>\n",
       "      <td>HillaryClinton</td>\n",
       "      <td>last night donald trump said paying taxes smar...</td>\n",
       "      <td>True</td>\n",
       "      <td>timkaine</td>\n",
       "      <td>2016-09-27T23:45:00</td>\n",
       "      <td>NaN</td>\n",
       "      <td>NaN</td>\n",
       "      <td>NaN</td>\n",
       "      <td>False</td>\n",
       "      <td>...</td>\n",
       "      <td>NaN</td>\n",
       "      <td>NaN</td>\n",
       "      <td>NaN</td>\n",
       "      <td>NaN</td>\n",
       "      <td>NaN</td>\n",
       "      <td>http://twitter.com</td>\n",
       "      <td>False</td>\n",
       "      <td>{'media': [{'display_url': 'pic.twitter.com/t0...</td>\n",
       "      <td>{'media': [{'display_url': 'pic.twitter.com/t0...</td>\n",
       "      <td>paying</td>\n",
       "    </tr>\n",
       "    <tr>\n",
       "      <th>2</th>\n",
       "      <td>780911564857761793</td>\n",
       "      <td>HillaryClinton</td>\n",
       "      <td>couldnt proud hillaryclinton vision command la...</td>\n",
       "      <td>True</td>\n",
       "      <td>POTUS</td>\n",
       "      <td>2016-09-27T23:26:40</td>\n",
       "      <td>NaN</td>\n",
       "      <td>NaN</td>\n",
       "      <td>NaN</td>\n",
       "      <td>False</td>\n",
       "      <td>...</td>\n",
       "      <td>NaN</td>\n",
       "      <td>NaN</td>\n",
       "      <td>NaN</td>\n",
       "      <td>NaN</td>\n",
       "      <td>NaN</td>\n",
       "      <td>https://about.twitter.com/products/tweetdeck</td>\n",
       "      <td>False</td>\n",
       "      <td>{'user_mentions': [{'id_str': '1536791610', 'n...</td>\n",
       "      <td>NaN</td>\n",
       "      <td>showed</td>\n",
       "    </tr>\n",
       "    <tr>\n",
       "      <th>3</th>\n",
       "      <td>780907038650068994</td>\n",
       "      <td>HillaryClinton</td>\n",
       "      <td>stand together theres nothing cant make sure y...</td>\n",
       "      <td>False</td>\n",
       "      <td>NaN</td>\n",
       "      <td>2016-09-27T23:08:41</td>\n",
       "      <td>NaN</td>\n",
       "      <td>NaN</td>\n",
       "      <td>NaN</td>\n",
       "      <td>False</td>\n",
       "      <td>...</td>\n",
       "      <td>NaN</td>\n",
       "      <td>NaN</td>\n",
       "      <td>NaN</td>\n",
       "      <td>NaN</td>\n",
       "      <td>NaN</td>\n",
       "      <td>https://studio.twitter.com</td>\n",
       "      <td>False</td>\n",
       "      <td>{'media': [{'display_url': 'pic.twitter.com/Q3...</td>\n",
       "      <td>{'media': [{'display_url': 'pic.twitter.com/Q3...</td>\n",
       "      <td>ready</td>\n",
       "    </tr>\n",
       "    <tr>\n",
       "      <th>4</th>\n",
       "      <td>780897419462602752</td>\n",
       "      <td>HillaryClinton</td>\n",
       "      <td>candidates asked theyd confront racial injusti...</td>\n",
       "      <td>False</td>\n",
       "      <td>NaN</td>\n",
       "      <td>2016-09-27T22:30:27</td>\n",
       "      <td>NaN</td>\n",
       "      <td>NaN</td>\n",
       "      <td>NaN</td>\n",
       "      <td>False</td>\n",
       "      <td>...</td>\n",
       "      <td>NaN</td>\n",
       "      <td>NaN</td>\n",
       "      <td>NaN</td>\n",
       "      <td>NaN</td>\n",
       "      <td>NaN</td>\n",
       "      <td>https://about.twitter.com/products/tweetdeck</td>\n",
       "      <td>False</td>\n",
       "      <td>{'user_mentions': [], 'symbols': [], 'urls': [...</td>\n",
       "      <td>NaN</td>\n",
       "      <td>answer</td>\n",
       "    </tr>\n",
       "  </tbody>\n",
       "</table>\n",
       "<p>5 rows × 29 columns</p>\n",
       "</div>"
      ],
      "text/plain": [
       "                   id          handle  \\\n",
       "0  780925634159796224  HillaryClinton   \n",
       "1  780916180899037184  HillaryClinton   \n",
       "2  780911564857761793  HillaryClinton   \n",
       "3  780907038650068994  HillaryClinton   \n",
       "4  780897419462602752  HillaryClinton   \n",
       "\n",
       "                                                text  is_retweet  \\\n",
       "0  question election put plans action make life b...       False   \n",
       "1  last night donald trump said paying taxes smar...        True   \n",
       "2  couldnt proud hillaryclinton vision command la...        True   \n",
       "3  stand together theres nothing cant make sure y...       False   \n",
       "4  candidates asked theyd confront racial injusti...       False   \n",
       "\n",
       "  original_author                 time in_reply_to_screen_name  \\\n",
       "0             NaN  2016-09-28T00:22:34                     NaN   \n",
       "1        timkaine  2016-09-27T23:45:00                     NaN   \n",
       "2           POTUS  2016-09-27T23:26:40                     NaN   \n",
       "3             NaN  2016-09-27T23:08:41                     NaN   \n",
       "4             NaN  2016-09-27T22:30:27                     NaN   \n",
       "\n",
       "   in_reply_to_status_id  in_reply_to_user_id  is_quote_status  ...  \\\n",
       "0                    NaN                  NaN            False  ...   \n",
       "1                    NaN                  NaN            False  ...   \n",
       "2                    NaN                  NaN            False  ...   \n",
       "3                    NaN                  NaN            False  ...   \n",
       "4                    NaN                  NaN            False  ...   \n",
       "\n",
       "  place_country_code  place_country  place_contained_within  place_attributes  \\\n",
       "0                NaN            NaN                     NaN               NaN   \n",
       "1                NaN            NaN                     NaN               NaN   \n",
       "2                NaN            NaN                     NaN               NaN   \n",
       "3                NaN            NaN                     NaN               NaN   \n",
       "4                NaN            NaN                     NaN               NaN   \n",
       "\n",
       "   place_bounding_box                                    source_url truncated  \\\n",
       "0                 NaN                    https://studio.twitter.com     False   \n",
       "1                 NaN                            http://twitter.com     False   \n",
       "2                 NaN  https://about.twitter.com/products/tweetdeck     False   \n",
       "3                 NaN                    https://studio.twitter.com     False   \n",
       "4                 NaN  https://about.twitter.com/products/tweetdeck     False   \n",
       "\n",
       "                                            entities  \\\n",
       "0  {'media': [{'display_url': 'pic.twitter.com/Xr...   \n",
       "1  {'media': [{'display_url': 'pic.twitter.com/t0...   \n",
       "2  {'user_mentions': [{'id_str': '1536791610', 'n...   \n",
       "3  {'media': [{'display_url': 'pic.twitter.com/Q3...   \n",
       "4  {'user_mentions': [], 'symbols': [], 'urls': [...   \n",
       "\n",
       "                                   extended_entities most_important_word  \n",
       "0  {'media': [{'display_url': 'pic.twitter.com/Xr...            question  \n",
       "1  {'media': [{'display_url': 'pic.twitter.com/t0...              paying  \n",
       "2                                                NaN              showed  \n",
       "3  {'media': [{'display_url': 'pic.twitter.com/Q3...               ready  \n",
       "4                                                NaN              answer  \n",
       "\n",
       "[5 rows x 29 columns]"
      ]
     },
     "execution_count": 8,
     "metadata": {},
     "output_type": "execute_result"
    }
   ],
   "source": [
    "df.head()"
   ]
  },
  {
   "cell_type": "markdown",
   "id": "bc756766-faa4-4eee-85bc-d4bf656ad0c9",
   "metadata": {},
   "source": [
    "# Use Wordnet to get a Similarity Matrix"
   ]
  },
  {
   "cell_type": "code",
   "execution_count": 9,
   "id": "4debe0ac-43cd-4d87-a6c3-d580e4bd6750",
   "metadata": {},
   "outputs": [],
   "source": [
    "import nltk\n",
    "from nltk.corpus import wordnet as wn"
   ]
  },
  {
   "cell_type": "code",
   "execution_count": 33,
   "id": "da756086-b213-4e66-a1e3-cf22eb0b3665",
   "metadata": {},
   "outputs": [],
   "source": [
    "def similarity(word_pair):\n",
    "    word1, word2, i, j = word_pair\n",
    "    synsets1 = wn.synsets(word1)\n",
    "    synsets2 = wn.synsets(word2)\n",
    "\n",
    "    # If no synsets are found\n",
    "    if not synsets1 or not synsets2:\n",
    "        return i, j, 0\n",
    "\n",
    "    # Get max similarity score between any synset pair\n",
    "    max_similarity = max((s1.wup_similarity(s2) or 0) for s1 in synsets1 for s2 in synsets2)\n",
    "    return i, j, max_similarity"
   ]
  },
  {
   "cell_type": "markdown",
   "id": "b41da244-fdd7-4473-b6f6-265fbf4889f3",
   "metadata": {},
   "source": [
    "## Use Parrallelisation because of the High Computational Time"
   ]
  },
  {
   "cell_type": "code",
   "execution_count": 32,
   "id": "96d249fa-e4d7-41a7-b5b4-51f08396ba8b",
   "metadata": {},
   "outputs": [],
   "source": [
    "import os\n",
    "from multiprocessing import Pool"
   ]
  },
  {
   "cell_type": "code",
   "execution_count": 27,
   "id": "49066e5a-6732-46e3-94df-1293873b6925",
   "metadata": {},
   "outputs": [],
   "source": [
    "def prepare_input(important_words):\n",
    "    tasks = []\n",
    "    for i in range(len(important_words)):\n",
    "        for j in range(i+1, len(important_words)):\n",
    "            tasks.append((important_words[i], important_words[j], i, j))\n",
    "    return tasks"
   ]
  },
  {
   "cell_type": "code",
   "execution_count": null,
   "id": "4bb48550-9ab1-4096-b502-f497fcc54282",
   "metadata": {},
   "outputs": [],
   "source": [
    "n = len(important_words)\n",
    "similarity_matrix = np.zeros((n, n))\n",
    "start_time = time.time()\n",
    "\n",
    "# Similarity matrix should be symmetric, so we can save half the compuation time (upper triangle = lower triangle)\n",
    "tasks = prepare_input(important_words)\n",
    "\n",
    "with Pool() as pool:\n",
    "    results = pool.map(similarity,tasks)\n",
    "\n",
    "for i, j, sim_score in results:\n",
    "    similarity_matrix[i, j] = sim_score\n",
    "    similarity_matrix[j, i] = sim_score\n",
    "\n",
    "np.fill_diagonal(similarity_matrix, 1)\n",
    "\n",
    "# for i in range(n):\n",
    "#     for j in range(i, n):\n",
    "#         if i != j:\n",
    "#             sim_score = similarity(important_words[i], important_words[j])\n",
    "#             similarity_matrix[i,j] = sim_score\n",
    "#             similarity_matrix[j,i] = sim_score\n",
    "#         else:\n",
    "#             similarity_matrix[i, j] = 0\n",
    "\n",
    "end_time = time.time()\n",
    "print(f\"Time taken to compare most important words:{end_time-start_time}\")"
   ]
  },
  {
   "cell_type": "code",
   "execution_count": null,
   "id": "0e26c171-7e92-4e3a-ba5d-450c148c0be2",
   "metadata": {},
   "outputs": [],
   "source": [
    "np.save(\"data/wordnet_similarity_matrix.npy\", similarity_matrix)"
   ]
  }
 ],
 "metadata": {
  "kernelspec": {
   "display_name": "Python 3 (ipykernel)",
   "language": "python",
   "name": "python3"
  },
  "language_info": {
   "codemirror_mode": {
    "name": "ipython",
    "version": 3
   },
   "file_extension": ".py",
   "mimetype": "text/x-python",
   "name": "python",
   "nbconvert_exporter": "python",
   "pygments_lexer": "ipython3",
   "version": "3.10.13"
  }
 },
 "nbformat": 4,
 "nbformat_minor": 5
}
